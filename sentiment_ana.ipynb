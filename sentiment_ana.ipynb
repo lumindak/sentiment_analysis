{
 "cells": [
  {
   "cell_type": "code",
   "execution_count": 1,
   "id": "ce1279d8",
   "metadata": {},
   "outputs": [],
   "source": [
    "import pandas as pd"
   ]
  },
  {
   "cell_type": "code",
   "execution_count": 2,
   "id": "a6676e80",
   "metadata": {},
   "outputs": [
    {
     "name": "stdout",
     "output_type": "stream",
     "text": [
      "/Users/lumindakulasiri/Desktop/ML/sentiment_ana\n"
     ]
    }
   ],
   "source": [
    "import os\n",
    "print (os.getcwd() )"
   ]
  },
  {
   "cell_type": "code",
   "execution_count": 3,
   "id": "36352fab",
   "metadata": {},
   "outputs": [],
   "source": [
    "train=pd.read_csv('./train.csv')\n",
    "test=pd.read_csv('./test.csv')"
   ]
  },
  {
   "cell_type": "code",
   "execution_count": 4,
   "id": "d2c889ec",
   "metadata": {},
   "outputs": [
    {
     "name": "stdout",
     "output_type": "stream",
     "text": [
      "<class 'pandas.core.frame.DataFrame'>\n",
      "RangeIndex: 31962 entries, 0 to 31961\n",
      "Data columns (total 3 columns):\n",
      " #   Column  Non-Null Count  Dtype \n",
      "---  ------  --------------  ----- \n",
      " 0   id      31962 non-null  int64 \n",
      " 1   label   31962 non-null  int64 \n",
      " 2   tweet   31962 non-null  object\n",
      "dtypes: int64(2), object(1)\n",
      "memory usage: 749.2+ KB\n",
      "<class 'pandas.core.frame.DataFrame'>\n",
      "RangeIndex: 17197 entries, 0 to 17196\n",
      "Data columns (total 2 columns):\n",
      " #   Column  Non-Null Count  Dtype \n",
      "---  ------  --------------  ----- \n",
      " 0   id      17197 non-null  int64 \n",
      " 1   tweet   17197 non-null  object\n",
      "dtypes: int64(1), object(1)\n",
      "memory usage: 268.8+ KB\n"
     ]
    }
   ],
   "source": [
    "train.info()\n",
    "test.info()"
   ]
  },
  {
   "cell_type": "code",
   "execution_count": 5,
   "id": "1e81f035",
   "metadata": {},
   "outputs": [
    {
     "data": {
      "text/plain": [
       "0         @user when a father is dysfunctional and is s...\n",
       "1        @user @user thanks for #lyft credit i can't us...\n",
       "2                                      bihday your majesty\n",
       "3        #model   i love u take with u all the time in ...\n",
       "4                   factsguide: society now    #motivation\n",
       "                               ...                        \n",
       "31957    ate @user isz that youuu?ðððððð...\n",
       "31958      to see nina turner on the airwaves trying to...\n",
       "31959    listening to sad songs on a monday morning otw...\n",
       "31960    @user #sikh #temple vandalised in in #calgary,...\n",
       "31961                     thank you @user for you follow  \n",
       "Name: tweet, Length: 31962, dtype: object"
      ]
     },
     "execution_count": 5,
     "metadata": {},
     "output_type": "execute_result"
    }
   ],
   "source": [
    "#label '1' denotes the tweet is racist/sexist ?\n",
    "train['tweet']"
   ]
  },
  {
   "cell_type": "code",
   "execution_count": 6,
   "id": "6b21c1dd",
   "metadata": {},
   "outputs": [
    {
     "data": {
      "text/plain": [
       "0    29720\n",
       "1     2242\n",
       "Name: label, dtype: int64"
      ]
     },
     "execution_count": 6,
     "metadata": {},
     "output_type": "execute_result"
    }
   ],
   "source": [
    "train['label'].value_counts()"
   ]
  },
  {
   "cell_type": "code",
   "execution_count": 7,
   "id": "e551fd9b",
   "metadata": {},
   "outputs": [
    {
     "data": {
      "text/html": [
       "<div>\n",
       "<style scoped>\n",
       "    .dataframe tbody tr th:only-of-type {\n",
       "        vertical-align: middle;\n",
       "    }\n",
       "\n",
       "    .dataframe tbody tr th {\n",
       "        vertical-align: top;\n",
       "    }\n",
       "\n",
       "    .dataframe thead th {\n",
       "        text-align: right;\n",
       "    }\n",
       "</style>\n",
       "<table border=\"1\" class=\"dataframe\">\n",
       "  <thead>\n",
       "    <tr style=\"text-align: right;\">\n",
       "      <th></th>\n",
       "      <th>id</th>\n",
       "      <th>label</th>\n",
       "      <th>tweet</th>\n",
       "    </tr>\n",
       "  </thead>\n",
       "  <tbody>\n",
       "    <tr>\n",
       "      <th>0</th>\n",
       "      <td>1</td>\n",
       "      <td>0</td>\n",
       "      <td>@user when a father is dysfunctional and is so selfish he drags his kids into his dysfunction.   #run</td>\n",
       "    </tr>\n",
       "    <tr>\n",
       "      <th>1</th>\n",
       "      <td>2</td>\n",
       "      <td>0</td>\n",
       "      <td>@user @user thanks for #lyft credit i can't use cause they don't offer wheelchair vans in pdx.    #disapointed #getthanked</td>\n",
       "    </tr>\n",
       "    <tr>\n",
       "      <th>2</th>\n",
       "      <td>3</td>\n",
       "      <td>0</td>\n",
       "      <td>bihday your majesty</td>\n",
       "    </tr>\n",
       "    <tr>\n",
       "      <th>3</th>\n",
       "      <td>4</td>\n",
       "      <td>0</td>\n",
       "      <td>#model   i love u take with u all the time in urð±!!! ðððð",
       "ð¦ð¦ð¦</td>\n",
       "    </tr>\n",
       "    <tr>\n",
       "      <th>4</th>\n",
       "      <td>5</td>\n",
       "      <td>0</td>\n",
       "      <td>factsguide: society now    #motivation</td>\n",
       "    </tr>\n",
       "    <tr>\n",
       "      <th>...</th>\n",
       "      <td>...</td>\n",
       "      <td>...</td>\n",
       "      <td>...</td>\n",
       "    </tr>\n",
       "    <tr>\n",
       "      <th>31956</th>\n",
       "      <td>31957</td>\n",
       "      <td>0</td>\n",
       "      <td>off fishing tomorrow @user carnt wait first time in 2 years</td>\n",
       "    </tr>\n",
       "    <tr>\n",
       "      <th>31957</th>\n",
       "      <td>31958</td>\n",
       "      <td>0</td>\n",
       "      <td>ate @user isz that youuu?ðððððððððâ¤ï¸</td>\n",
       "    </tr>\n",
       "    <tr>\n",
       "      <th>31958</th>\n",
       "      <td>31959</td>\n",
       "      <td>0</td>\n",
       "      <td>to see nina turner on the airwaves trying to wrap herself in the mantle of a genuine hero like shirley chisolm. #shame #imwithher</td>\n",
       "    </tr>\n",
       "    <tr>\n",
       "      <th>31959</th>\n",
       "      <td>31960</td>\n",
       "      <td>0</td>\n",
       "      <td>listening to sad songs on a monday morning otw to work is sad</td>\n",
       "    </tr>\n",
       "    <tr>\n",
       "      <th>31961</th>\n",
       "      <td>31962</td>\n",
       "      <td>0</td>\n",
       "      <td>thank you @user for you follow</td>\n",
       "    </tr>\n",
       "  </tbody>\n",
       "</table>\n",
       "<p>29720 rows × 3 columns</p>\n",
       "</div>"
      ],
      "text/plain": [
       "          id  label  \\\n",
       "0          1      0   \n",
       "1          2      0   \n",
       "2          3      0   \n",
       "3          4      0   \n",
       "4          5      0   \n",
       "...      ...    ...   \n",
       "31956  31957      0   \n",
       "31957  31958      0   \n",
       "31958  31959      0   \n",
       "31959  31960      0   \n",
       "31961  31962      0   \n",
       "\n",
       "                                                                                                                                     tweet  \n",
       "0                                    @user when a father is dysfunctional and is so selfish he drags his kids into his dysfunction.   #run  \n",
       "1               @user @user thanks for #lyft credit i can't use cause they don't offer wheelchair vans in pdx.    #disapointed #getthanked  \n",
       "2                                                                                                                      bihday your majesty  \n",
       "3                                                   #model   i love u take with u all the time in urð±!!! ðððð\n",
       "ð¦ð¦ð¦    \n",
       "4                                                                                                   factsguide: society now    #motivation  \n",
       "...                                                                                                                                    ...  \n",
       "31956                                                                        off fishing tomorrow @user carnt wait first time in 2 years    \n",
       "31957                                                                 ate @user isz that youuu?ðððððððððâ¤ï¸   \n",
       "31958    to see nina turner on the airwaves trying to wrap herself in the mantle of a genuine hero like shirley chisolm. #shame #imwithher  \n",
       "31959                                                                      listening to sad songs on a monday morning otw to work is sad    \n",
       "31961                                                                                                     thank you @user for you follow    \n",
       "\n",
       "[29720 rows x 3 columns]"
      ]
     },
     "execution_count": 7,
     "metadata": {},
     "output_type": "execute_result"
    }
   ],
   "source": [
    "pd.options.display.max_colwidth = 400\n",
    "train.loc[train['label']==0]"
   ]
  },
  {
   "cell_type": "code",
   "execution_count": 8,
   "id": "a3d05d29",
   "metadata": {},
   "outputs": [
    {
     "name": "stderr",
     "output_type": "stream",
     "text": [
      "/opt/anaconda3/lib/python3.7/site-packages/ipykernel_launcher.py:14: FutureWarning: The default value of regex will change from True to False in a future version.\n",
      "  \n",
      "/opt/anaconda3/lib/python3.7/site-packages/ipykernel_launcher.py:15: FutureWarning: The default value of regex will change from True to False in a future version.\n",
      "  from ipykernel import kernelapp as app\n"
     ]
    },
    {
     "data": {
      "text/html": [
       "<div>\n",
       "<style scoped>\n",
       "    .dataframe tbody tr th:only-of-type {\n",
       "        vertical-align: middle;\n",
       "    }\n",
       "\n",
       "    .dataframe tbody tr th {\n",
       "        vertical-align: top;\n",
       "    }\n",
       "\n",
       "    .dataframe thead th {\n",
       "        text-align: right;\n",
       "    }\n",
       "</style>\n",
       "<table border=\"1\" class=\"dataframe\">\n",
       "  <thead>\n",
       "    <tr style=\"text-align: right;\">\n",
       "      <th></th>\n",
       "      <th>id</th>\n",
       "      <th>tweet</th>\n",
       "      <th>tweet1</th>\n",
       "    </tr>\n",
       "  </thead>\n",
       "  <tbody>\n",
       "    <tr>\n",
       "      <th>0</th>\n",
       "      <td>31963</td>\n",
       "      <td>#studiolife #aislife #requires #passion #dedication #willpower   to find #newmaterialsâ¦</td>\n",
       "      <td>studiolife aislife requires passion dedication willpower   to find newmaterials</td>\n",
       "    </tr>\n",
       "    <tr>\n",
       "      <th>1</th>\n",
       "      <td>31964</td>\n",
       "      <td>@user #white #supremacists want everyone to see the new â  #birdsâ #movie â and hereâs why</td>\n",
       "      <td>user white supremacists want everyone to see the new   birds movie  and heres why</td>\n",
       "    </tr>\n",
       "    <tr>\n",
       "      <th>2</th>\n",
       "      <td>31965</td>\n",
       "      <td>safe ways to heal your #acne!!    #altwaystoheal #healthy   #healing!!</td>\n",
       "      <td>safe ways to heal your acne    altwaystoheal healthy   healing</td>\n",
       "    </tr>\n",
       "    <tr>\n",
       "      <th>3</th>\n",
       "      <td>31966</td>\n",
       "      <td>is the hp and the cursed child book up for reservations already? if yes, where? if no, when? ððð   #harrypotter #pottermore #favorite</td>\n",
       "      <td>is the hp and the cursed child book up for reservations already if yes where if no when    harrypotter pottermore favorite</td>\n",
       "    </tr>\n",
       "    <tr>\n",
       "      <th>4</th>\n",
       "      <td>31967</td>\n",
       "      <td>3rd #bihday to my amazing, hilarious #nephew eli ahmir! uncle dave loves you and missesâ¦</td>\n",
       "      <td>rd bihday to my amazing hilarious nephew eli ahmir uncle dave loves you and misses</td>\n",
       "    </tr>\n",
       "    <tr>\n",
       "      <th>...</th>\n",
       "      <td>...</td>\n",
       "      <td>...</td>\n",
       "      <td>...</td>\n",
       "    </tr>\n",
       "    <tr>\n",
       "      <th>17192</th>\n",
       "      <td>49155</td>\n",
       "      <td>thought factory: left-right polarisation! #trump #uselections2016 #leadership #politics  #brexit #blm &amp;gt;3</td>\n",
       "      <td>thought factory leftright polarisation trump uselections leadership politics  brexit blm gt</td>\n",
       "    </tr>\n",
       "    <tr>\n",
       "      <th>17193</th>\n",
       "      <td>49156</td>\n",
       "      <td>feeling like a mermaid ð #hairflip #neverready #formal #wedding #gown #dresses #mermaid  â¦</td>\n",
       "      <td>feeling like a mermaid  hairflip neverready formal wedding gown dresses mermaid</td>\n",
       "    </tr>\n",
       "    <tr>\n",
       "      <th>17194</th>\n",
       "      <td>49157</td>\n",
       "      <td>#hillary #campaigned today in #ohio((omg)) &amp;amp; used words like \"assets&amp;amp;liability\" never once did #clinton say thee(word) #radicalization</td>\n",
       "      <td>hillary campaigned today in ohioomg amp used words like assetsampliability never once did clinton say theeword radicalization</td>\n",
       "    </tr>\n",
       "    <tr>\n",
       "      <th>17195</th>\n",
       "      <td>49158</td>\n",
       "      <td>happy, at work conference: right mindset leads to culture-of-development organizations    #work #mindset</td>\n",
       "      <td>happy at work conference right mindset leads to cultureofdevelopment organizations    work mindset</td>\n",
       "    </tr>\n",
       "    <tr>\n",
       "      <th>17196</th>\n",
       "      <td>49159</td>\n",
       "      <td>my   song \"so glad\" free download!  #shoegaze #newmusic #newsong</td>\n",
       "      <td>my   song so glad free download  shoegaze newmusic newsong</td>\n",
       "    </tr>\n",
       "  </tbody>\n",
       "</table>\n",
       "<p>17197 rows × 3 columns</p>\n",
       "</div>"
      ],
      "text/plain": [
       "          id  \\\n",
       "0      31963   \n",
       "1      31964   \n",
       "2      31965   \n",
       "3      31966   \n",
       "4      31967   \n",
       "...      ...   \n",
       "17192  49155   \n",
       "17193  49156   \n",
       "17194  49157   \n",
       "17195  49158   \n",
       "17196  49159   \n",
       "\n",
       "                                                                                                                                                   tweet  \\\n",
       "0                                                             #studiolife #aislife #requires #passion #dedication #willpower   to find #newmaterialsâ¦    \n",
       "1                                                   @user #white #supremacists want everyone to see the new â  #birdsâ #movie â and hereâs why     \n",
       "2                                                                                safe ways to heal your #acne!!    #altwaystoheal #healthy   #healing!!    \n",
       "3         is the hp and the cursed child book up for reservations already? if yes, where? if no, when? ððð   #harrypotter #pottermore #favorite   \n",
       "4                                                            3rd #bihday to my amazing, hilarious #nephew eli ahmir! uncle dave loves you and missesâ¦    \n",
       "...                                                                                                                                                  ...   \n",
       "17192                                       thought factory: left-right polarisation! #trump #uselections2016 #leadership #politics  #brexit #blm &gt;3    \n",
       "17193                                                   feeling like a mermaid ð #hairflip #neverready #formal #wedding #gown #dresses #mermaid  â¦    \n",
       "17194  #hillary #campaigned today in #ohio((omg)) &amp; used words like \"assets&amp;liability\" never once did #clinton say thee(word) #radicalization      \n",
       "17195                                           happy, at work conference: right mindset leads to culture-of-development organizations    #work #mindset   \n",
       "17196                                                                                   my   song \"so glad\" free download!  #shoegaze #newmusic #newsong   \n",
       "\n",
       "                                                                                                                                 tweet1  \n",
       "0                                                      studiolife aislife requires passion dedication willpower   to find newmaterials   \n",
       "1                                                   user white supremacists want everyone to see the new   birds movie  and heres why    \n",
       "2                                                                       safe ways to heal your acne    altwaystoheal healthy   healing   \n",
       "3            is the hp and the cursed child book up for reservations already if yes where if no when    harrypotter pottermore favorite  \n",
       "4                                                   rd bihday to my amazing hilarious nephew eli ahmir uncle dave loves you and misses   \n",
       "...                                                                                                                                 ...  \n",
       "17192                                      thought factory leftright polarisation trump uselections leadership politics  brexit blm gt   \n",
       "17193                                                feeling like a mermaid  hairflip neverready formal wedding gown dresses mermaid     \n",
       "17194  hillary campaigned today in ohioomg amp used words like assetsampliability never once did clinton say theeword radicalization     \n",
       "17195                                happy at work conference right mindset leads to cultureofdevelopment organizations    work mindset  \n",
       "17196                                                                        my   song so glad free download  shoegaze newmusic newsong  \n",
       "\n",
       "[17197 rows x 3 columns]"
      ]
     },
     "execution_count": 8,
     "metadata": {},
     "output_type": "execute_result"
    }
   ],
   "source": [
    "import re\n",
    "#process the tweets\n",
    "#conver to lowercse\n",
    "train['tweet1']= train['tweet'].str.lower()\n",
    "test['tweet1']= test['tweet'].str.lower()\n",
    "\n",
    "#remove urls\n",
    "train['tweet1'] = train['tweet1'].apply(lambda x: re.split('https:\\/\\/.*', str(x))[0])\n",
    "test['tweet1'] = test['tweet1'].apply(lambda x: re.split('https:\\/\\/.*', str(x))[0])\n",
    "\n",
    "# remove special char\n",
    "#train['tweet'] = train['tweet'].apply(lambda x: re.sub(r'[#@&?][\\S]+', '', str(x)))\n",
    "# a better way to remove all non letters\n",
    "train['tweet1']=train['tweet1'].str.replace('[^a-z ]', '')\n",
    "test['tweet1']=test['tweet1'].str.replace('[^a-z ]', '')\n",
    "test"
   ]
  },
  {
   "cell_type": "code",
   "execution_count": 9,
   "id": "193d4afe",
   "metadata": {},
   "outputs": [
    {
     "data": {
      "text/html": [
       "<div>\n",
       "<style scoped>\n",
       "    .dataframe tbody tr th:only-of-type {\n",
       "        vertical-align: middle;\n",
       "    }\n",
       "\n",
       "    .dataframe tbody tr th {\n",
       "        vertical-align: top;\n",
       "    }\n",
       "\n",
       "    .dataframe thead th {\n",
       "        text-align: right;\n",
       "    }\n",
       "</style>\n",
       "<table border=\"1\" class=\"dataframe\">\n",
       "  <thead>\n",
       "    <tr style=\"text-align: right;\">\n",
       "      <th></th>\n",
       "      <th>id</th>\n",
       "      <th>label</th>\n",
       "      <th>tweet</th>\n",
       "      <th>tweet1</th>\n",
       "      <th>tweet_new</th>\n",
       "    </tr>\n",
       "  </thead>\n",
       "  <tbody>\n",
       "    <tr>\n",
       "      <th>0</th>\n",
       "      <td>1</td>\n",
       "      <td>0</td>\n",
       "      <td>@user when a father is dysfunctional and is so selfish he drags his kids into his dysfunction.   #run</td>\n",
       "      <td>user when a father is dysfunctional and is so selfish he drags his kids into his dysfunction   run</td>\n",
       "      <td>user father dysfunctional selfish drag kid dysfunction run</td>\n",
       "    </tr>\n",
       "    <tr>\n",
       "      <th>1</th>\n",
       "      <td>2</td>\n",
       "      <td>0</td>\n",
       "      <td>@user @user thanks for #lyft credit i can't use cause they don't offer wheelchair vans in pdx.    #disapointed #getthanked</td>\n",
       "      <td>user user thanks for lyft credit i cant use cause they dont offer wheelchair vans in pdx    disapointed getthanked</td>\n",
       "      <td>user user thanks lyft credit cant use cause dont offer wheelchair van pdx disapointed getthanked</td>\n",
       "    </tr>\n",
       "    <tr>\n",
       "      <th>2</th>\n",
       "      <td>3</td>\n",
       "      <td>0</td>\n",
       "      <td>bihday your majesty</td>\n",
       "      <td>bihday your majesty</td>\n",
       "      <td>bihday majesty</td>\n",
       "    </tr>\n",
       "    <tr>\n",
       "      <th>3</th>\n",
       "      <td>4</td>\n",
       "      <td>0</td>\n",
       "      <td>#model   i love u take with u all the time in urð±!!! ðððð",
       "ð¦ð¦ð¦</td>\n",
       "      <td>model   i love u take with u all the time in ur</td>\n",
       "      <td>model love u take u time ur</td>\n",
       "    </tr>\n",
       "    <tr>\n",
       "      <th>4</th>\n",
       "      <td>5</td>\n",
       "      <td>0</td>\n",
       "      <td>factsguide: society now    #motivation</td>\n",
       "      <td>factsguide society now    motivation</td>\n",
       "      <td>factsguide society motivation</td>\n",
       "    </tr>\n",
       "    <tr>\n",
       "      <th>...</th>\n",
       "      <td>...</td>\n",
       "      <td>...</td>\n",
       "      <td>...</td>\n",
       "      <td>...</td>\n",
       "      <td>...</td>\n",
       "    </tr>\n",
       "    <tr>\n",
       "      <th>31957</th>\n",
       "      <td>31958</td>\n",
       "      <td>0</td>\n",
       "      <td>ate @user isz that youuu?ðððððððððâ¤ï¸</td>\n",
       "      <td>ate user isz that youuu</td>\n",
       "      <td>ate user isz youuu</td>\n",
       "    </tr>\n",
       "    <tr>\n",
       "      <th>31958</th>\n",
       "      <td>31959</td>\n",
       "      <td>0</td>\n",
       "      <td>to see nina turner on the airwaves trying to wrap herself in the mantle of a genuine hero like shirley chisolm. #shame #imwithher</td>\n",
       "      <td>to see nina turner on the airwaves trying to wrap herself in the mantle of a genuine hero like shirley chisolm shame imwithher</td>\n",
       "      <td>see nina turner airwave trying wrap mantle genuine hero like shirley chisolm shame imwithher</td>\n",
       "    </tr>\n",
       "    <tr>\n",
       "      <th>31959</th>\n",
       "      <td>31960</td>\n",
       "      <td>0</td>\n",
       "      <td>listening to sad songs on a monday morning otw to work is sad</td>\n",
       "      <td>listening to sad songs on a monday morning otw to work is sad</td>\n",
       "      <td>listening sad song monday morning otw work sad</td>\n",
       "    </tr>\n",
       "    <tr>\n",
       "      <th>31960</th>\n",
       "      <td>31961</td>\n",
       "      <td>1</td>\n",
       "      <td>@user #sikh #temple vandalised in in #calgary, #wso condemns  act</td>\n",
       "      <td>user sikh temple vandalised in in calgary wso condemns  act</td>\n",
       "      <td>user sikh temple vandalised calgary wso condemns act</td>\n",
       "    </tr>\n",
       "    <tr>\n",
       "      <th>31961</th>\n",
       "      <td>31962</td>\n",
       "      <td>0</td>\n",
       "      <td>thank you @user for you follow</td>\n",
       "      <td>thank you user for you follow</td>\n",
       "      <td>thank user follow</td>\n",
       "    </tr>\n",
       "  </tbody>\n",
       "</table>\n",
       "<p>31962 rows × 5 columns</p>\n",
       "</div>"
      ],
      "text/plain": [
       "          id  label  \\\n",
       "0          1      0   \n",
       "1          2      0   \n",
       "2          3      0   \n",
       "3          4      0   \n",
       "4          5      0   \n",
       "...      ...    ...   \n",
       "31957  31958      0   \n",
       "31958  31959      0   \n",
       "31959  31960      0   \n",
       "31960  31961      1   \n",
       "31961  31962      0   \n",
       "\n",
       "                                                                                                                                     tweet  \\\n",
       "0                                    @user when a father is dysfunctional and is so selfish he drags his kids into his dysfunction.   #run   \n",
       "1               @user @user thanks for #lyft credit i can't use cause they don't offer wheelchair vans in pdx.    #disapointed #getthanked   \n",
       "2                                                                                                                      bihday your majesty   \n",
       "3                                                   #model   i love u take with u all the time in urð±!!! ðððð\n",
       "ð¦ð¦ð¦     \n",
       "4                                                                                                   factsguide: society now    #motivation   \n",
       "...                                                                                                                                    ...   \n",
       "31957                                                                 ate @user isz that youuu?ðððððððððâ¤ï¸    \n",
       "31958    to see nina turner on the airwaves trying to wrap herself in the mantle of a genuine hero like shirley chisolm. #shame #imwithher   \n",
       "31959                                                                      listening to sad songs on a monday morning otw to work is sad     \n",
       "31960                                                                  @user #sikh #temple vandalised in in #calgary, #wso condemns  act     \n",
       "31961                                                                                                     thank you @user for you follow     \n",
       "\n",
       "                                                                                                                                 tweet1  \\\n",
       "0                                    user when a father is dysfunctional and is so selfish he drags his kids into his dysfunction   run   \n",
       "1                    user user thanks for lyft credit i cant use cause they dont offer wheelchair vans in pdx    disapointed getthanked   \n",
       "2                                                                                                                   bihday your majesty   \n",
       "3                                                                                    model   i love u take with u all the time in ur      \n",
       "4                                                                                                  factsguide society now    motivation   \n",
       "...                                                                                                                                 ...   \n",
       "31957                                                                                                          ate user isz that youuu    \n",
       "31958    to see nina turner on the airwaves trying to wrap herself in the mantle of a genuine hero like shirley chisolm shame imwithher   \n",
       "31959                                                                   listening to sad songs on a monday morning otw to work is sad     \n",
       "31960                                                                     user sikh temple vandalised in in calgary wso condemns  act     \n",
       "31961                                                                                                   thank you user for you follow     \n",
       "\n",
       "                                                                                              tweet_new  \n",
       "0                                            user father dysfunctional selfish drag kid dysfunction run  \n",
       "1      user user thanks lyft credit cant use cause dont offer wheelchair van pdx disapointed getthanked  \n",
       "2                                                                                        bihday majesty  \n",
       "3                                                                           model love u take u time ur  \n",
       "4                                                                         factsguide society motivation  \n",
       "...                                                                                                 ...  \n",
       "31957                                                                                ate user isz youuu  \n",
       "31958      see nina turner airwave trying wrap mantle genuine hero like shirley chisolm shame imwithher  \n",
       "31959                                                    listening sad song monday morning otw work sad  \n",
       "31960                                              user sikh temple vandalised calgary wso condemns act  \n",
       "31961                                                                                 thank user follow  \n",
       "\n",
       "[31962 rows x 5 columns]"
      ]
     },
     "execution_count": 9,
     "metadata": {},
     "output_type": "execute_result"
    }
   ],
   "source": [
    "from nltk.corpus import stopwords\n",
    "from nltk.tokenize import word_tokenize\n",
    "from nltk.stem import WordNetLemmatizer\n",
    "\n",
    "\n",
    "\n",
    "# processing the text\n",
    "def preprocess_text(text):\n",
    "\n",
    "    # Tokenizing the text\n",
    "    tokens = word_tokenize(text.lower())\n",
    "   \n",
    "    # Removing stop words\n",
    "    tokens1 = [token for token in tokens if token not in stopwords.words('english')]\n",
    "\n",
    "    # Lemmatizing\n",
    "    lemmatizer = WordNetLemmatizer()\n",
    "    lemmatized_tokens = [lemmatizer.lemmatize(token) for token in tokens1]\n",
    "\n",
    "    # Join the tokens back into a string\n",
    "    text_string = ' '.join(lemmatized_tokens)\n",
    "    \n",
    "     #remove special chars\n",
    "    cleaned_text=text_string.replace('[^a-z ]@#', '')\n",
    "\n",
    "    return cleaned_text\n",
    "\n",
    "# apply the function\n",
    "\n",
    "train['tweet_new'] = train['tweet1'].apply(preprocess_text)\n",
    "test['tweet_new'] = test['tweet1'].apply(preprocess_text)\n",
    "train"
   ]
  },
  {
   "cell_type": "code",
   "execution_count": 10,
   "id": "fe918c75",
   "metadata": {},
   "outputs": [],
   "source": [
    "from sklearn.feature_extraction.text import TfidfVectorizer\n",
    "from sklearn.model_selection import train_test_split\n",
    "\n",
    "#separate some data for validation\n",
    "X_train, X_test, y_train, y_test = train_test_split(train['tweet_new'],train['label'], \n",
    "                                                    test_size=0.2, random_state=40)"
   ]
  },
  {
   "cell_type": "code",
   "execution_count": 11,
   "id": "503a578b",
   "metadata": {},
   "outputs": [],
   "source": [
    "\n",
    "\n",
    "from sklearn.feature_extraction.text import TfidfVectorizer\n",
    "tfidf = TfidfVectorizer(strip_accents=None, \n",
    "                        lowercase=False,\n",
    "                        preprocessor=None)\n",
    "X = tfidf.fit_transform(X_train)\n",
    "X_val = tfidf.transform(X_test)\n",
    "X_test = tfidf.transform(test['tweet_new'])"
   ]
  },
  {
   "cell_type": "code",
   "execution_count": 12,
   "id": "fc6ca205",
   "metadata": {},
   "outputs": [
    {
     "data": {
      "text/plain": [
       "array([0, 0, 0, ..., 1, 0, 0])"
      ]
     },
     "execution_count": 12,
     "metadata": {},
     "output_type": "execute_result"
    }
   ],
   "source": [
    "from sklearn.linear_model import LogisticRegression\n",
    "lr = LogisticRegression(solver='liblinear')\n",
    "lr.fit(X,y_train) # fit the model\n",
    "preds = lr.predict(X_val) # make predictions\n",
    "preds"
   ]
  },
  {
   "cell_type": "code",
   "execution_count": 13,
   "id": "f1602cff",
   "metadata": {},
   "outputs": [
    {
     "data": {
      "text/plain": [
       "0.9521351478179259"
      ]
     },
     "execution_count": 13,
     "metadata": {},
     "output_type": "execute_result"
    }
   ],
   "source": [
    "from sklearn.metrics import accuracy_score\n",
    "accuracy_score(preds,y_test) "
   ]
  },
  {
   "cell_type": "code",
   "execution_count": 14,
   "id": "76bd29fa",
   "metadata": {},
   "outputs": [
    {
     "data": {
      "text/plain": [
       "array([0, 0, 0, ..., 0, 0, 0])"
      ]
     },
     "execution_count": 14,
     "metadata": {},
     "output_type": "execute_result"
    }
   ],
   "source": [
    "preds_test = lr.predict(X_test)\n",
    "preds_test"
   ]
  },
  {
   "cell_type": "code",
   "execution_count": 15,
   "id": "3318a7f3",
   "metadata": {},
   "outputs": [
    {
     "data": {
      "text/plain": [
       "0.9421241983419365"
      ]
     },
     "execution_count": 15,
     "metadata": {},
     "output_type": "execute_result"
    }
   ],
   "source": [
    "#repeat for XGBoost \n",
    "from xgboost import XGBClassifier\n",
    "xgb_clf = XGBClassifier(n_estimators=2, \n",
    "                        max_depth=2, learning_rate=1, \n",
    "                        objective='binary:logistic')\n",
    "xgb_clf.fit(X, y_train)\n",
    "preds_xgb = xgb_clf.predict(X_val) \n",
    "accuracy_score(preds_xgb,y_test)"
   ]
  },
  {
   "cell_type": "code",
   "execution_count": null,
   "id": "d9bc8d38",
   "metadata": {},
   "outputs": [],
   "source": []
  },
  {
   "cell_type": "code",
   "execution_count": null,
   "id": "59e85a9f",
   "metadata": {},
   "outputs": [],
   "source": []
  },
  {
   "cell_type": "code",
   "execution_count": null,
   "id": "e8fb31b4",
   "metadata": {},
   "outputs": [],
   "source": []
  }
 ],
 "metadata": {
  "celltoolbar": "Raw Cell Format",
  "kernelspec": {
   "display_name": "Python 3 (ipykernel)",
   "language": "python",
   "name": "python3"
  },
  "language_info": {
   "codemirror_mode": {
    "name": "ipython",
    "version": 3
   },
   "file_extension": ".py",
   "mimetype": "text/x-python",
   "name": "python",
   "nbconvert_exporter": "python",
   "pygments_lexer": "ipython3",
   "version": "3.7.0"
  }
 },
 "nbformat": 4,
 "nbformat_minor": 5
}
